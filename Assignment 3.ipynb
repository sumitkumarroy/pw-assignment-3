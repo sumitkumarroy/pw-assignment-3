{
 "cells": [
  {
   "cell_type": "code",
   "execution_count": 1,
   "id": "910bff64",
   "metadata": {},
   "outputs": [
    {
     "name": "stdout",
     "output_type": "stream",
     "text": [
      "1\n",
      "3\n",
      "5\n",
      "7\n",
      "9\n",
      "11\n",
      "13\n",
      "15\n",
      "17\n",
      "19\n",
      "21\n",
      "23\n"
     ]
    }
   ],
   "source": [
    "#1.def keyword is used to create a function.\n",
    "\n",
    "def odd_numbers():\n",
    "    for i in range(25):\n",
    "        if (i%2 == 0):\n",
    "            pass\n",
    "        else:\n",
    "            print(i)\n",
    "        \n",
    "odd_numbers()    "
   ]
  },
  {
   "cell_type": "code",
   "execution_count": null,
   "id": "428a2066",
   "metadata": {},
   "outputs": [],
   "source": []
  },
  {
   "cell_type": "code",
   "execution_count": null,
   "id": "ed766855",
   "metadata": {},
   "outputs": [],
   "source": []
  },
  {
   "cell_type": "code",
   "execution_count": 2,
   "id": "f08ac954",
   "metadata": {},
   "outputs": [
    {
     "name": "stdout",
     "output_type": "stream",
     "text": [
      "args-----------------\n",
      "sumit\n",
      "kumar\n",
      "roy\n",
      "15190\n",
      "kwargs-----------------\n",
      "fruit: apple\n",
      "quantity: 3\n",
      "color: red\n",
      "size: medium\n"
     ]
    }
   ],
   "source": [
    "#2.  *args used to create function that can accept any number of positional arguments in the form of tuple.\n",
    "#**kwargs used to create function that accepts any number of keyeorf arguments and it collects into dictionary.\n",
    "\n",
    "def args(*args):\n",
    "    for arg in args:\n",
    "        print(arg)\n",
    "\n",
    "        \n",
    "def kwargs(**kwargs):\n",
    "    for key, value in kwargs.items():\n",
    "        print(f\"{key}: {value}\")\n",
    "        \n",
    "        \n",
    "print('args-----------------')       \n",
    "args('sumit','kumar','roy',15190)\n",
    "print('kwargs-----------------')\n",
    "kwargs(fruit='apple', quantity=3, color='red', size='medium')"
   ]
  },
  {
   "cell_type": "code",
   "execution_count": 3,
   "id": "2cdef300",
   "metadata": {},
   "outputs": [
    {
     "name": "stdout",
     "output_type": "stream",
     "text": [
      "2\n",
      "4\n",
      "6\n",
      "8\n",
      "10\n"
     ]
    }
   ],
   "source": [
    "#3.  iterator is an object which allows as to iteratot over a sequence of elemant like string, list, tuple, etc.\n",
    "\n",
    "ls = [2,4,6,8,10,12,14,16,18,20]\n",
    "test_1 = iter(ls)\n",
    "\n",
    "i=0\n",
    "while(i<5):\n",
    "    element=next(test_1)\n",
    "    print(element)\n",
    "    i+=1"
   ]
  },
  {
   "cell_type": "code",
   "execution_count": 4,
   "id": "12f072f8",
   "metadata": {},
   "outputs": [
    {
     "name": "stdout",
     "output_type": "stream",
     "text": [
      "2\n",
      "4\n",
      "6\n",
      "8\n",
      "10\n"
     ]
    }
   ],
   "source": [
    "#4. Generator is a function ehich is used to generate a sequence of values over time rather then creating the whole at once which takes more memory.Generator functions use yield to through the value.\n",
    "# Yield is a keyword used to return a value to caller rather then creating the whole at once.\n",
    "\n",
    "def test_2(kk):\n",
    "    n=1\n",
    "    while(n<=kk):\n",
    "        yield 2*n\n",
    "        n += 1\n",
    "    \n",
    "su = test_2(5)   \n",
    "for i in su:\n",
    "    print(i)\n",
    "    "
   ]
  },
  {
   "cell_type": "code",
   "execution_count": 5,
   "id": "edde5a4c",
   "metadata": {},
   "outputs": [
    {
     "name": "stdout",
     "output_type": "stream",
     "text": [
      "[2, 3, 5, 7, 11, 13, 17, 19, 23, 29, 31, 37, 41, 43, 47, 53, 59, 61, 67, 71, 73, 79, 83, 89, 97, 101, 103, 107, 109, 113, 127, 131, 137, 139, 149, 151, 157, 163, 167, 173, 179, 181, 191, 193, 197, 199, 211, 223, 227, 229, 233, 239, 241, 251, 257, 263, 269, 271, 277, 281, 283, 293, 307, 311, 313, 317, 331, 337, 347, 349, 353, 359, 367, 373, 379, 383, 389, 397, 401, 409, 419, 421, 431, 433, 439, 443, 449, 457, 461, 463, 467, 479, 487, 491, 499, 503, 509, 521, 523, 541, 547, 557, 563, 569, 571, 577, 587, 593, 599, 601, 607, 613, 617, 619, 631, 641, 643, 647, 653, 659, 661, 673, 677, 683, 691, 701, 709, 719, 727, 733, 739, 743, 751, 757, 761, 769, 773, 787, 797, 809, 811, 821, 823, 827, 829, 839, 853, 857, 859, 863, 877, 881, 883, 887, 907, 911, 919, 929, 937, 941, 947, 953, 967, 971, 977, 983, 991, 997]\n",
      "\n",
      "prime numbers till 20 index are--> \n",
      "\n",
      "[2, 3, 5, 7, 11, 13, 17, 19, 23, 29, 31, 37, 41, 43, 47, 53, 59, 61, 67, 71]\n"
     ]
    }
   ],
   "source": [
    "def primes_under_1000():\n",
    "    primes = []\n",
    "    for num in range(2, 1000):\n",
    "        is_prime = True\n",
    "        for i in range(2, int(num ** 0.5) + 1):\n",
    "            if num % i == 0:\n",
    "                is_prime = False\n",
    "                break\n",
    "        if is_prime:\n",
    "            primes.append(num)\n",
    "\n",
    "    return primes\n",
    "\n",
    "prime_numbers = primes_under_1000()\n",
    "print(prime_numbers)\n",
    "print('\\nprime numbers till 20 index are--> \\n')\n",
    "def test_3():\n",
    "    count=0\n",
    "    ls = []\n",
    "    ind = 0\n",
    "    while(count<20):\n",
    "        ls.append(prime_numbers[ind])\n",
    "        count += 1\n",
    "        ind  += 1\n",
    "    print(ls)\n",
    "    \n",
    "test_3()"
   ]
  },
  {
   "cell_type": "code",
   "execution_count": 6,
   "id": "6480c1c2",
   "metadata": {},
   "outputs": [
    {
     "name": "stdout",
     "output_type": "stream",
     "text": [
      "0\n",
      "1\n",
      "1\n",
      "2\n",
      "3\n",
      "5\n",
      "8\n",
      "13\n",
      "21\n",
      "34\n"
     ]
    }
   ],
   "source": [
    "#6. fibonacci function\n",
    "\n",
    "def fibo(num):\n",
    "    a=0\n",
    "    b=1\n",
    "    i=0\n",
    "    while i<num:\n",
    "                \n",
    "        yield(a)\n",
    "        \n",
    "        c=a+b\n",
    "        a=b\n",
    "        b=c\n",
    "        \n",
    "        i +=1\n",
    "for number in fibo(10):\n",
    "    print(number)"
   ]
  },
  {
   "cell_type": "code",
   "execution_count": 7,
   "id": "387124cd",
   "metadata": {},
   "outputs": [
    {
     "name": "stdout",
     "output_type": "stream",
     "text": [
      "['p', 'w', 's', 'k', 'i', 'l', 'l', 's']\n"
     ]
    }
   ],
   "source": [
    "input_string = 'pwskills'\n",
    "\n",
    "result = [input_string[i] for i in range(len(input_string))]\n",
    "\n",
    "print(result)\n"
   ]
  },
  {
   "cell_type": "code",
   "execution_count": 8,
   "id": "719b27a6",
   "metadata": {},
   "outputs": [
    {
     "name": "stdout",
     "output_type": "stream",
     "text": [
      "yes its pelindrome\n"
     ]
    }
   ],
   "source": [
    "#8. Check pelindrome\n",
    "def pelindrome(num):\n",
    "    orignal_num = num\n",
    "    reverse_num = 0\n",
    "    while(num>0):\n",
    "        dig = num%10\n",
    "        reverse_num=(reverse_num*10)+dig\n",
    "        num //= 10\n",
    "        \n",
    "    if orignal_num == reverse_num:\n",
    "        print('yes its pelindrome')\n",
    "        \n",
    "    else:\n",
    "        print('no its not pelindrome')\n",
    "        \n",
    "number = 12348963536984321\n",
    "pelindrome(number)"
   ]
  },
  {
   "cell_type": "code",
   "execution_count": 9,
   "id": "adf4a2ac",
   "metadata": {},
   "outputs": [
    {
     "name": "stdout",
     "output_type": "stream",
     "text": [
      "[1, 3, 5, 7, 9, 11, 13, 15, 17, 19, 21, 23, 25, 27, 29, 31, 33, 35, 37, 39, 41, 43, 45, 47, 49, 51, 53, 55, 57, 59, 61, 63, 65, 67, 69, 71, 73, 75, 77, 79, 81, 83, 85, 87, 89, 91, 93, 95, 97, 99]\n"
     ]
    }
   ],
   "source": [
    "#9. list comprehesion\n",
    "\n",
    "odd_numbers= [i for i in range(1,101) if i%2 != 0]\n",
    "print(odd_numbers)"
   ]
  },
  {
   "cell_type": "code",
   "execution_count": null,
   "id": "9a433a5b",
   "metadata": {},
   "outputs": [],
   "source": []
  }
 ],
 "metadata": {
  "kernelspec": {
   "display_name": "Python 3 (ipykernel)",
   "language": "python",
   "name": "python3"
  },
  "language_info": {
   "codemirror_mode": {
    "name": "ipython",
    "version": 3
   },
   "file_extension": ".py",
   "mimetype": "text/x-python",
   "name": "python",
   "nbconvert_exporter": "python",
   "pygments_lexer": "ipython3",
   "version": "3.11.4"
  }
 },
 "nbformat": 4,
 "nbformat_minor": 5
}
